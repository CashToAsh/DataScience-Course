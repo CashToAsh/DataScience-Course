{
 "cells": [
  {
   "cell_type": "markdown",
   "id": "dfcbb1cd-845e-46f0-900e-b115eaf324d0",
   "metadata": {},
   "source": [
    "# Data Science Tools and Ecosystem"
   ]
  },
  {
   "cell_type": "markdown",
   "id": "c1c801ff-24f2-4178-8d8b-205a998d938b",
   "metadata": {},
   "source": [
    "## Author\n",
    "Geir Stave"
   ]
  },
  {
   "cell_type": "markdown",
   "id": "d8514ed2-afc4-4096-aa2b-cec7975cce3a",
   "metadata": {},
   "source": [
    "In this notebook Data Science Tools and Ecosystem i summarized"
   ]
  },
  {
   "cell_type": "markdown",
   "id": "3889e70b-2d38-4b36-9e54-94bec3718df2",
   "metadata": {},
   "source": [
    "**Objectives:**\n",
    "- List populare languages\n",
    "- List populare libraries\n",
    "- List Data Science tools\n",
    "- Show Python examples"
   ]
  },
  {
   "cell_type": "markdown",
   "id": "69445142-2abf-43f5-aded-45020329a692",
   "metadata": {},
   "source": [
    "Some of the populare languages that Data Scientists use are:\n",
    "1. Python\n",
    "2. R\n",
    "3. SQL"
   ]
  },
  {
   "cell_type": "markdown",
   "id": "48819f52-f12d-446c-9352-6b08a59c73ff",
   "metadata": {},
   "source": [
    "Some of the commonly used libraries used by Data Scientists include:\n",
    "1. Pandas\n",
    "2. NumPy\n",
    "3. SciPy\n",
    "4. Matplotlib"
   ]
  },
  {
   "cell_type": "markdown",
   "id": "960b446b-6f11-4a16-a9ec-7725bcc7cec8",
   "metadata": {},
   "source": [
    "|Data Science Tools|\n",
    "|--------------------|\n",
    "|Jupyter Notebooks|\n",
    "|Jupyter Lab|\n",
    "|Apache Zeppelin|\n",
    "|R Studio|\n",
    "|Spyder|"
   ]
  },
  {
   "cell_type": "markdown",
   "id": "c8e0c121-0ada-4878-bfae-2965c25dabf4",
   "metadata": {},
   "source": [
    "### Below a a few examples of evaluating arithmatic expressions in Python"
   ]
  },
  {
   "cell_type": "code",
   "execution_count": 3,
   "id": "336906cb-872c-409a-b2d8-7552247cc8d5",
   "metadata": {},
   "outputs": [
    {
     "data": {
      "text/plain": [
       "17"
      ]
     },
     "execution_count": 3,
     "metadata": {},
     "output_type": "execute_result"
    }
   ],
   "source": [
    "(3*4)+5\n",
    "# This is a simple arithmetic expression to multiply then add integers"
   ]
  },
  {
   "cell_type": "code",
   "execution_count": 5,
   "id": "4294cd64-d1a1-4c75-8bef-72fdc0709683",
   "metadata": {},
   "outputs": [
    {
     "name": "stdout",
     "output_type": "stream",
     "text": [
      "3.3333333333333335 hours\n"
     ]
    }
   ],
   "source": [
    "minutes = 200\n",
    "hours = minutes / 60\n",
    "print(str(hours) + \" hours\")\n",
    "# This Will convert 200 minutes into hours by dividing by 60"
   ]
  },
  {
   "cell_type": "code",
   "execution_count": 7,
   "id": "454a59ab-2775-403b-8222-d5e9a149c3f2",
   "metadata": {},
   "outputs": [
    {
     "name": "stdout",
     "output_type": "stream",
     "text": [
      "C:\\Users\\geirs\n"
     ]
    }
   ],
   "source": [
    "import os\n",
    "print(os.getcwd())\n"
   ]
  },
  {
   "cell_type": "code",
   "execution_count": null,
   "id": "1a048a40-cff0-4ffb-8ae3-530148ee62de",
   "metadata": {},
   "outputs": [],
   "source": []
  }
 ],
 "metadata": {
  "kernelspec": {
   "display_name": "Python 3 (ipykernel)",
   "language": "python",
   "name": "python3"
  },
  "language_info": {
   "codemirror_mode": {
    "name": "ipython",
    "version": 3
   },
   "file_extension": ".py",
   "mimetype": "text/x-python",
   "name": "python",
   "nbconvert_exporter": "python",
   "pygments_lexer": "ipython3",
   "version": "3.12.9"
  }
 },
 "nbformat": 4,
 "nbformat_minor": 5
}
